{
 "cells": [
  {
   "cell_type": "code",
   "execution_count": 1,
   "id": "e2d74cf7",
   "metadata": {
    "_cell_guid": "b1076dfc-b9ad-4769-8c92-a6c4dae69d19",
    "_uuid": "8f2839f25d086af736a60e9eeb907d3b93b6e0e5",
    "execution": {
     "iopub.execute_input": "2025-09-05T10:51:20.347619Z",
     "iopub.status.busy": "2025-09-05T10:51:20.347348Z",
     "iopub.status.idle": "2025-09-05T10:51:22.110429Z",
     "shell.execute_reply": "2025-09-05T10:51:22.109564Z"
    },
    "papermill": {
     "duration": 1.771711,
     "end_time": "2025-09-05T10:51:22.111865",
     "exception": false,
     "start_time": "2025-09-05T10:51:20.340154",
     "status": "completed"
    },
    "tags": []
   },
   "outputs": [
    {
     "name": "stdout",
     "output_type": "stream",
     "text": [
      "/kaggle/input/bmi-dataset-linear-regression/bmi.csv\n"
     ]
    }
   ],
   "source": [
    "# This Python 3 environment comes with many helpful analytics libraries installed\n",
    "# It is defined by the kaggle/python Docker image: https://github.com/kaggle/docker-python\n",
    "# For example, here's several helpful packages to load\n",
    "\n",
    "import numpy as np # linear algebra\n",
    "import pandas as pd # data processing, CSV file I/O (e.g. pd.read_csv)\n",
    "\n",
    "# Input data files are available in the read-only \"../input/\" directory\n",
    "# For example, running this (by clicking run or pressing Shift+Enter) will list all files under the input directory\n",
    "\n",
    "import os\n",
    "for dirname, _, filenames in os.walk('/kaggle/input'):\n",
    "    for filename in filenames:\n",
    "        print(os.path.join(dirname, filename))\n",
    "\n",
    "# You can write up to 20GB to the current directory (/kaggle/working/) that gets preserved as output when you create a version using \"Save & Run All\" \n",
    "# You can also write temporary files to /kaggle/temp/, but they won't be saved outside of the current session"
   ]
  },
  {
   "cell_type": "markdown",
   "id": "747b0204",
   "metadata": {
    "papermill": {
     "duration": 0.004673,
     "end_time": "2025-09-05T10:51:22.121790",
     "exception": false,
     "start_time": "2025-09-05T10:51:22.117117",
     "status": "completed"
    },
    "tags": []
   },
   "source": [
    "<a class=\"anchor\" id=\"0\"></a>\n",
    "\n",
    "# **Linear Regression Tutorial in Python**\n",
    "\n",
    "Hello friends,\n",
    "\n",
    "Linear Regression is a very simple and easy to understand ML algorithm. \n",
    "Here, I build a Linear Regression model to predict BMI values based on the given features.\n",
    "\n",
    "So, let's get started..\n"
   ]
  },
  {
   "cell_type": "markdown",
   "id": "5a8f508d",
   "metadata": {
    "papermill": {
     "duration": 0.004655,
     "end_time": "2025-09-05T10:51:22.131456",
     "exception": false,
     "start_time": "2025-09-05T10:51:22.126801",
     "status": "completed"
    },
    "tags": []
   },
   "source": [
    "<a class=\"anchor\" id=\"0.1\"></a>\n",
    "# **Table of Contents**\n",
    "\n",
    "1. [Introduction to Linear Regression algorithm](#1)\n",
    "2. [Python Library](#2)\n",
    "3. [Load dataset](#3)\n",
    "4. [Normal Equation (closed-form OLS)](#4)"
   ]
  },
  {
   "attachments": {
    "4801ae09-b81f-4c33-807f-bc19414b56ff.png": {
     "image/png": "[encoded data removed]"
    },
    "4b8263d5-a278-4289-afd5-b86e68e6fa1d.png": {
     "image/png": "[encoded data removed]"
    },
    "b4da360e-4476-4332-8057-d65771ac7c68.png": {
     "image/png": "[encoded data removed]"
    }
   },
   "cell_type": "markdown",
   "id": "acddcb1a",
   "metadata": {
    "papermill": {
     "duration": 0.004575,
     "end_time": "2025-09-05T10:51:22.140945",
     "exception": false,
     "start_time": "2025-09-05T10:51:22.136370",
     "status": "completed"
    },
    "tags": []
   },
   "source": [
    "# **1. Introduction to Linear Regression algorithm** <a class=\"anchor\" id=\"1\"></a>\n",
    "Linear regression is a method to model the relationship between\n",
    "* a dependent variable y and\n",
    "* one or more independent variables x,\n",
    "by fitting the best straight line (or hyperplane) through the data.\n",
    "\n",
    "# Formula: \n",
    "![image.png](attachment:b4da360e-4476-4332-8057-d65771ac7c68.png)\n",
    "# BMI Linear Regression Model:\n",
    "![image.png](attachment:4801ae09-b81f-4c33-807f-bc19414b56ff.png)\n",
    "\n",
    "* y → target values (e.g., BMI)\n",
    "* x → features (Height, Weight, etc.)\n",
    "* beta → coefficients we want to calculate\n",
    "* e → error term\n"
   ]
  },
  {
   "cell_type": "markdown",
   "id": "e2110e08",
   "metadata": {
    "papermill": {
     "duration": 0.004901,
     "end_time": "2025-09-05T10:51:22.150637",
     "exception": false,
     "start_time": "2025-09-05T10:51:22.145736",
     "status": "completed"
    },
    "tags": []
   },
   "source": [
    "# **2. Python Library** <a class=\"anchor\" id=\"2\"></a>"
   ]
  },
  {
   "cell_type": "code",
   "execution_count": 2,
   "id": "bb6c260b",
   "metadata": {
    "execution": {
     "iopub.execute_input": "2025-09-05T10:51:22.161450Z",
     "iopub.status.busy": "2025-09-05T10:51:22.160975Z",
     "iopub.status.idle": "2025-09-05T10:51:22.165223Z",
     "shell.execute_reply": "2025-09-05T10:51:22.164439Z"
    },
    "papermill": {
     "duration": 0.011198,
     "end_time": "2025-09-05T10:51:22.166576",
     "exception": false,
     "start_time": "2025-09-05T10:51:22.155378",
     "status": "completed"
    },
    "tags": []
   },
   "outputs": [],
   "source": [
    "import pandas as pd\n",
    "import numpy as np"
   ]
  },
  {
   "cell_type": "markdown",
   "id": "4fdb1eef",
   "metadata": {
    "papermill": {
     "duration": 0.004639,
     "end_time": "2025-09-05T10:51:22.175994",
     "exception": false,
     "start_time": "2025-09-05T10:51:22.171355",
     "status": "completed"
    },
    "tags": []
   },
   "source": [
    "# **3. Load dataset** <a class=\"anchor\" id=\"3\"></a>"
   ]
  },
  {
   "cell_type": "code",
   "execution_count": 3,
   "id": "1e464385",
   "metadata": {
    "execution": {
     "iopub.execute_input": "2025-09-05T10:51:22.187741Z",
     "iopub.status.busy": "2025-09-05T10:51:22.187313Z",
     "iopub.status.idle": "2025-09-05T10:51:22.217787Z",
     "shell.execute_reply": "2025-09-05T10:51:22.216797Z"
    },
    "papermill": {
     "duration": 0.038763,
     "end_time": "2025-09-05T10:51:22.219461",
     "exception": false,
     "start_time": "2025-09-05T10:51:22.180698",
     "status": "completed"
    },
    "tags": []
   },
   "outputs": [],
   "source": [
    "# ---------- Load dataset ----------\n",
    "df = pd.read_csv(\"/kaggle/input/bmi-dataset-linear-regression/bmi.csv\").head(6)"
   ]
  },
  {
   "cell_type": "markdown",
   "id": "760e8e89",
   "metadata": {
    "papermill": {
     "duration": 0.00462,
     "end_time": "2025-09-05T10:51:22.229105",
     "exception": false,
     "start_time": "2025-09-05T10:51:22.224485",
     "status": "completed"
    },
    "tags": []
   },
   "source": [
    "# **4. Data Description** <a class=\"anchor\" id=\"4\"></a>"
   ]
  },
  {
   "cell_type": "code",
   "execution_count": 4,
   "id": "70449842",
   "metadata": {
    "execution": {
     "iopub.execute_input": "2025-09-05T10:51:22.240029Z",
     "iopub.status.busy": "2025-09-05T10:51:22.239342Z",
     "iopub.status.idle": "2025-09-05T10:51:22.252894Z",
     "shell.execute_reply": "2025-09-05T10:51:22.251985Z"
    },
    "papermill": {
     "duration": 0.020406,
     "end_time": "2025-09-05T10:51:22.254291",
     "exception": false,
     "start_time": "2025-09-05T10:51:22.233885",
     "status": "completed"
    },
    "tags": []
   },
   "outputs": [
    {
     "name": "stdout",
     "output_type": "stream",
     "text": [
      "   Age  Height  Weight        Bmi       BmiClass\n",
      "0   61    1.85  109.30  31.935720  Obese Class 1\n",
      "1   60    1.71   79.02  27.023700     Overweight\n",
      "2   60    1.55   74.70  31.092612  Obese Class 1\n",
      "3   60    1.46   35.90  16.841809    Underweight\n",
      "4   60    1.58   97.10  38.896010  Obese Class 2\n",
      "5   59    1.71   79.32  27.126295     Overweight\n"
     ]
    }
   ],
   "source": [
    "# Show the first 5 rows\n",
    "print(df)"
   ]
  },
  {
   "cell_type": "code",
   "execution_count": 5,
   "id": "33d438a1",
   "metadata": {
    "execution": {
     "iopub.execute_input": "2025-09-05T10:51:22.265070Z",
     "iopub.status.busy": "2025-09-05T10:51:22.264776Z",
     "iopub.status.idle": "2025-09-05T10:51:22.294327Z",
     "shell.execute_reply": "2025-09-05T10:51:22.293146Z"
    },
    "papermill": {
     "duration": 0.036621,
     "end_time": "2025-09-05T10:51:22.295827",
     "exception": false,
     "start_time": "2025-09-05T10:51:22.259206",
     "status": "completed"
    },
    "tags": []
   },
   "outputs": [
    {
     "name": "stdout",
     "output_type": "stream",
     "text": [
      "Dataset info:\n",
      "<class 'pandas.core.frame.DataFrame'>\n",
      "RangeIndex: 6 entries, 0 to 5\n",
      "Data columns (total 5 columns):\n",
      " #   Column    Non-Null Count  Dtype  \n",
      "---  ------    --------------  -----  \n",
      " 0   Age       6 non-null      int64  \n",
      " 1   Height    6 non-null      float64\n",
      " 2   Weight    6 non-null      float64\n",
      " 3   Bmi       6 non-null      float64\n",
      " 4   BmiClass  6 non-null      object \n",
      "dtypes: float64(3), int64(1), object(1)\n",
      "memory usage: 372.0+ bytes\n",
      "None\n"
     ]
    }
   ],
   "source": [
    "# Show general info about the dataset\n",
    "print(\"Dataset info:\")\n",
    "print(df.info())"
   ]
  },
  {
   "cell_type": "code",
   "execution_count": 6,
   "id": "11410ed5",
   "metadata": {
    "execution": {
     "iopub.execute_input": "2025-09-05T10:51:22.307255Z",
     "iopub.status.busy": "2025-09-05T10:51:22.306912Z",
     "iopub.status.idle": "2025-09-05T10:51:22.332474Z",
     "shell.execute_reply": "2025-09-05T10:51:22.331579Z"
    },
    "papermill": {
     "duration": 0.032678,
     "end_time": "2025-09-05T10:51:22.333786",
     "exception": false,
     "start_time": "2025-09-05T10:51:22.301108",
     "status": "completed"
    },
    "tags": []
   },
   "outputs": [
    {
     "name": "stdout",
     "output_type": "stream",
     "text": [
      "Summary statistics:\n",
      "             Age    Height      Weight        Bmi\n",
      "count   6.000000  6.000000    6.000000   6.000000\n",
      "mean   60.000000  1.643333   79.223333  28.819358\n",
      "std     0.632456  0.139952   24.986410   7.293433\n",
      "min    59.000000  1.460000   35.900000  16.841809\n",
      "25%    60.000000  1.557500   75.780000  27.049349\n",
      "50%    60.000000  1.645000   79.170000  29.109454\n",
      "75%    60.000000  1.710000   92.655000  31.724943\n",
      "max    61.000000  1.850000  109.300000  38.896010\n"
     ]
    }
   ],
   "source": [
    "print(\"Summary statistics:\")\n",
    "print(df.describe())"
   ]
  },
  {
   "cell_type": "markdown",
   "id": "3a50aba3",
   "metadata": {
    "papermill": {
     "duration": 0.005079,
     "end_time": "2025-09-05T10:51:22.344161",
     "exception": false,
     "start_time": "2025-09-05T10:51:22.339082",
     "status": "completed"
    },
    "tags": []
   },
   "source": [
    "# **5. Normal Equation (closed-form OLS)** <a class=\"anchor\" id=\"6\"></a>"
   ]
  },
  {
   "attachments": {
    "bbf59fcc-ffa6-4349-a1cc-4f805bb1f3f8.png": {
     "image/png": "[encoded data removed]"
    }
   },
   "cell_type": "markdown",
   "id": "9440ae25",
   "metadata": {
    "papermill": {
     "duration": 0.00486,
     "end_time": "2025-09-05T10:51:22.354365",
     "exception": false,
     "start_time": "2025-09-05T10:51:22.349505",
     "status": "completed"
    },
    "tags": []
   },
   "source": [
    "![image.png](attachment:bbf59fcc-ffa6-4349-a1cc-4f805bb1f3f8.png)"
   ]
  },
  {
   "cell_type": "markdown",
   "id": "474aad5e",
   "metadata": {
    "papermill": {
     "duration": 0.005375,
     "end_time": "2025-09-05T10:51:22.365020",
     "exception": false,
     "start_time": "2025-09-05T10:51:22.359645",
     "status": "completed"
    },
    "tags": []
   },
   "source": [
    "<div style=\"font-size:15px;\">\n",
    "\n",
    "* y = what we want to predict (BMI).\n",
    "  \n",
    "* .values → converts pandas column to NumPy array.\n",
    "\n",
    "* .reshape(-1,1) → turns it into a column vector (shape = rows × 1).\n",
    "\n",
    "* X = our predictors (Height and Weight).\n",
    "\n",
    "* Shape = rows × 2.\n",
    "\n",
    "</div>"
   ]
  },
  {
   "cell_type": "code",
   "execution_count": 7,
   "id": "1b4abdfe",
   "metadata": {
    "execution": {
     "iopub.execute_input": "2025-09-05T10:51:22.377039Z",
     "iopub.status.busy": "2025-09-05T10:51:22.376744Z",
     "iopub.status.idle": "2025-09-05T10:51:22.382645Z",
     "shell.execute_reply": "2025-09-05T10:51:22.381866Z"
    },
    "papermill": {
     "duration": 0.013609,
     "end_time": "2025-09-05T10:51:22.383997",
     "exception": false,
     "start_time": "2025-09-05T10:51:22.370388",
     "status": "completed"
    },
    "tags": []
   },
   "outputs": [
    {
     "name": "stdout",
     "output_type": "stream",
     "text": [
      "=== pandas Series (df['Bmi'].head(6)) === \n",
      "\n",
      "=== Type: <class 'pandas.core.series.Series'> \n",
      "\n",
      "=== Shape: (6,) \n",
      "\n",
      "0    31.935720\n",
      "1    27.023700\n",
      "2    31.092612\n",
      "3    16.841809\n",
      "4    38.896010\n",
      "5    27.126295\n",
      "Name: Bmi, dtype: float64 \n",
      "\n"
     ]
    }
   ],
   "source": [
    "# Step 1: pandas Series (first 6 values)\n",
    "y = df[\"Bmi\"].head(6)\n",
    "print(\"=== pandas Series (df['Bmi'].head(6)) ===\", \"\\n\")\n",
    "print(\"=== Type:\",  type(y),  \"\\n\")\n",
    "print(\"=== Shape:\", y.shape,  \"\\n\")\n",
    "print(y, \"\\n\")\n",
    "\n",
    "#0    31.935720\n",
    "#1    27.023700"
   ]
  },
  {
   "cell_type": "code",
   "execution_count": 8,
   "id": "9852c9a2",
   "metadata": {
    "execution": {
     "iopub.execute_input": "2025-09-05T10:51:22.395580Z",
     "iopub.status.busy": "2025-09-05T10:51:22.395310Z",
     "iopub.status.idle": "2025-09-05T10:51:22.405591Z",
     "shell.execute_reply": "2025-09-05T10:51:22.404796Z"
    },
    "papermill": {
     "duration": 0.017557,
     "end_time": "2025-09-05T10:51:22.406958",
     "exception": false,
     "start_time": "2025-09-05T10:51:22.389401",
     "status": "completed"
    },
    "tags": []
   },
   "outputs": [
    {
     "name": "stdout",
     "output_type": "stream",
     "text": [
      "=== NumPy 1D array (df['Bmi'].values[:6]) ===\n",
      "[31.9357195  27.0236996  31.09261186 16.84180897 38.89601025 27.12629527]\n",
      "Type: <class 'numpy.ndarray'>\n",
      "Shape: (6,) \n",
      "\n",
      "=== NumPy 2D array (df['Bmi'].values[:6].reshape(-1,1)) ===\n",
      "[[31.9357195 ]\n",
      " [27.0236996 ]\n",
      " [31.09261186]\n",
      " [16.84180897]\n",
      " [38.89601025]\n",
      " [27.12629527]]\n",
      "Type: <class 'numpy.ndarray'>\n",
      "Shape: (6, 1)\n",
      "[[  1.85 109.3 ]\n",
      " [  1.71  79.02]\n",
      " [  1.55  74.7 ]\n",
      " [  1.46  35.9 ]\n",
      " [  1.58  97.1 ]\n",
      " [  1.71  79.32]]\n",
      "Type: <class 'numpy.ndarray'>\n",
      "Shape: (6, 2)\n",
      "[[  1.     1.85 109.3 ]\n",
      " [  1.     1.71  79.02]\n",
      " [  1.     1.55  74.7 ]\n",
      " [  1.     1.46  35.9 ]\n",
      " [  1.     1.58  97.1 ]\n",
      " [  1.     1.71  79.32]]\n",
      "Type: <class 'numpy.ndarray'>\n",
      "Shape: (6, 3)\n"
     ]
    }
   ],
   "source": [
    "# Step 2: NumPy 1D array (first 6 values)\n",
    "y = df[\"Bmi\"].values[:6]\n",
    "print(\"=== NumPy 1D array (df['Bmi'].values[:6]) ===\")\n",
    "print(y)\n",
    "print(\"Type:\", type(y))\n",
    "print(\"Shape:\", y.shape, \"\\n\")\n",
    "# [31.9357195  27.0236996  31.09261186 16.84180897 38.89601025 27.12629527]\n",
    "\n",
    "# Step 3: NumPy 2D column vector (first 6 values)\n",
    "y = df[\"Bmi\"].values[:6].reshape(-1, 1) # превращаем в колонку (m,1) \n",
    "print(\"=== NumPy 2D array (df['Bmi'].values[:6].reshape(-1,1)) ===\")\n",
    "print(y)\n",
    "print(\"Type:\", type(y))\n",
    "print(\"Shape:\", y.shape)\n",
    "#[[31.9357195 ]\n",
    "# [27.0236996 ]\n",
    "# [31.09261186]\n",
    "# [16.84180897]\n",
    "# [38.89601025]\n",
    "# [27.12629527]]\n",
    "\n",
    "X_raw = df[[\"Height\", \"Weight\"]].values[:6]\n",
    "print(X_raw)\n",
    "print(\"Type:\", type(X_raw))\n",
    "print(\"Shape:\", X_raw.shape)\n",
    "\n",
    "x = np.column_stack([np.ones(X_raw.shape[0]), X_raw])\n",
    "print(x)\n",
    "print(\"Type:\", type(x))\n",
    "print(\"Shape:\", x.shape)"
   ]
  },
  {
   "cell_type": "markdown",
   "id": "5986816d",
   "metadata": {
    "papermill": {
     "duration": 0.005194,
     "end_time": "2025-09-05T10:51:22.417602",
     "exception": false,
     "start_time": "2025-09-05T10:51:22.412408",
     "status": "completed"
    },
    "tags": []
   },
   "source": [
    "# **6. Gradient Descent** <a class=\"anchor\" id=\"7\"></a>"
   ]
  },
  {
   "cell_type": "markdown",
   "id": "e4d7a0bf",
   "metadata": {
    "papermill": {
     "duration": 0.005191,
     "end_time": "2025-09-05T10:51:22.428033",
     "exception": false,
     "start_time": "2025-09-05T10:51:22.422842",
     "status": "completed"
    },
    "tags": []
   },
   "source": [
    "# **7. Loss Function** <a class=\"anchor\" id=\"5\"></a>"
   ]
  },
  {
   "attachments": {
    "46bed7ef-c21a-4032-8f37-0a97546d65cf.png": {
     "image/png": "[encoded data removed]"
    },
    "b0aef772-783d-4bab-a254-f075f51e89f3.png": {
     "image/png": "[encoded data removed]"
    }
   },
   "cell_type": "markdown",
   "id": "25be1d80",
   "metadata": {
    "papermill": {
     "duration": 0.00482,
     "end_time": "2025-09-05T10:51:22.438033",
     "exception": false,
     "start_time": "2025-09-05T10:51:22.433213",
     "status": "completed"
    },
    "tags": []
   },
   "source": [
    "![image.png](attachment:b0aef772-783d-4bab-a254-f075f51e89f3.png)\n",
    "\n",
    "![image.png](attachment:46bed7ef-c21a-4032-8f37-0a97546d65cf.png)"
   ]
  },
  {
   "cell_type": "markdown",
   "id": "6e7b0754",
   "metadata": {
    "papermill": {
     "duration": 0.004838,
     "end_time": "2025-09-05T10:51:22.447820",
     "exception": false,
     "start_time": "2025-09-05T10:51:22.442982",
     "status": "completed"
    },
    "tags": []
   },
   "source": [
    "**Sum of Squared Errors (SSE)**"
   ]
  },
  {
   "cell_type": "markdown",
   "id": "55a92ff9",
   "metadata": {
    "papermill": {
     "duration": 0.004796,
     "end_time": "2025-09-05T10:51:22.457804",
     "exception": false,
     "start_time": "2025-09-05T10:51:22.453008",
     "status": "completed"
    },
    "tags": []
   },
   "source": [
    "**MLE (Maximum Likelihood Estimation)**"
   ]
  },
  {
   "cell_type": "markdown",
   "id": "9c15c333",
   "metadata": {
    "papermill": {
     "duration": 0.004794,
     "end_time": "2025-09-05T10:51:22.467624",
     "exception": false,
     "start_time": "2025-09-05T10:51:22.462830",
     "status": "completed"
    },
    "tags": []
   },
   "source": [
    "**R² (coefficient of determination)**"
   ]
  },
  {
   "cell_type": "markdown",
   "id": "20356cef",
   "metadata": {
    "papermill": {
     "duration": 0.004787,
     "end_time": "2025-09-05T10:51:22.477531",
     "exception": false,
     "start_time": "2025-09-05T10:51:22.472744",
     "status": "completed"
    },
    "tags": []
   },
   "source": [
    "**Adjusted R²**"
   ]
  },
  {
   "cell_type": "markdown",
   "id": "d232a823",
   "metadata": {
    "papermill": {
     "duration": 0.004806,
     "end_time": "2025-09-05T10:51:22.487356",
     "exception": false,
     "start_time": "2025-09-05T10:51:22.482550",
     "status": "completed"
    },
    "tags": []
   },
   "source": [
    "**F-statistics**"
   ]
  },
  {
   "cell_type": "markdown",
   "id": "a0b478f7",
   "metadata": {
    "papermill": {
     "duration": 0.00486,
     "end_time": "2025-09-05T10:51:22.497391",
     "exception": false,
     "start_time": "2025-09-05T10:51:22.492531",
     "status": "completed"
    },
    "tags": []
   },
   "source": [
    "**P-value**"
   ]
  }
 ],
 "metadata": {
  "kaggle": {
   "accelerator": "none",
   "dataSources": [
    {
     "datasetId": 8193246,
     "sourceId": 12947040,
     "sourceType": "datasetVersion"
    }
   ],
   "dockerImageVersionId": 31089,
   "isGpuEnabled": false,
   "isInternetEnabled": true,
   "language": "python",
   "sourceType": "notebook"
  },
  "kernelspec": {
   "display_name": "Python 3",
   "language": "python",
   "name": "python3"
  },
  "language_info": {
   "codemirror_mode": {
    "name": "ipython",
    "version": 3
   },
   "file_extension": ".py",
   "mimetype": "text/x-python",
   "name": "python",
   "nbconvert_exporter": "python",
   "pygments_lexer": "ipython3",
   "version": "3.11.13"
  },
  "papermill": {
   "default_parameters": {},
   "duration": 7.736005,
   "end_time": "2025-09-05T10:51:23.021601",
   "environment_variables": {},
   "exception": null,
   "input_path": "__notebook__.ipynb",
   "output_path": "__notebook__.ipynb",
   "parameters": {},
   "start_time": "2025-09-05T10:51:15.285596",
   "version": "2.6.0"
  }
 },
 "nbformat": 4,
 "nbformat_minor": 5
}
