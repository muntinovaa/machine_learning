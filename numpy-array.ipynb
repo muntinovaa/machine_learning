{
 "cells": [
  {
   "cell_type": "code",
   "execution_count": 1,
   "id": "25034a2a",
   "metadata": {
    "_cell_guid": "b1076dfc-b9ad-4769-8c92-a6c4dae69d19",
    "_uuid": "8f2839f25d086af736a60e9eeb907d3b93b6e0e5",
    "execution": {
     "iopub.execute_input": "2025-09-08T13:07:29.472712Z",
     "iopub.status.busy": "2025-09-08T13:07:29.472370Z",
     "iopub.status.idle": "2025-09-08T13:07:31.576170Z",
     "shell.execute_reply": "2025-09-08T13:07:31.575190Z"
    },
    "papermill": {
     "duration": 2.110837,
     "end_time": "2025-09-08T13:07:31.578071",
     "exception": false,
     "start_time": "2025-09-08T13:07:29.467234",
     "status": "completed"
    },
    "tags": []
   },
   "outputs": [],
   "source": [
    "# This Python 3 environment comes with many helpful analytics libraries installed\n",
    "# It is defined by the kaggle/python Docker image: https://github.com/kaggle/docker-python\n",
    "# For example, here's several helpful packages to load\n",
    "\n",
    "import numpy as np # linear algebra\n",
    "import pandas as pd # data processing, CSV file I/O (e.g. pd.read_csv)\n",
    "\n",
    "# Input data files are available in the read-only \"../input/\" directory\n",
    "# For example, running this (by clicking run or pressing Shift+Enter) will list all files under the input directory\n",
    "\n",
    "import os\n",
    "for dirname, _, filenames in os.walk('/kaggle/input'):\n",
    "    for filename in filenames:\n",
    "        print(os.path.join(dirname, filename))\n",
    "\n",
    "# You can write up to 20GB to the current directory (/kaggle/working/) that gets preserved as output when you create a version using \"Save & Run All\" \n",
    "# You can also write temporary files to /kaggle/temp/, but they won't be saved outside of the current session"
   ]
  },
  {
   "cell_type": "markdown",
   "id": "57adbb77",
   "metadata": {
    "papermill": {
     "duration": 0.002966,
     "end_time": "2025-09-08T13:07:31.585003",
     "exception": false,
     "start_time": "2025-09-08T13:07:31.582037",
     "status": "completed"
    },
    "tags": []
   },
   "source": [
    "import numpy as np\n",
    "\n",
    "np.array([1, 2, 3])             # → [1 2 3]\n",
    "\n",
    "np.zeros((2,3))                 # → [[0. 0. 0.],[0. 0. 0.]]\n",
    "\n",
    "np.ones((2,2))                  # → [[1. 1.],[1. 1.]]\n",
    "\n",
    "np.full((2,3), 7)               # → [[7 7 7],[7 7 7]]\n",
    "\n",
    "np.eye(3)                       # identity → [[1 0 0],[0 1 0],[0 0 1]]\n",
    "\n",
    "np.arange(0, 10, 2)             # → [0 2 4 6 8]\n",
    "\n",
    "np.linspace(0, 1, 5)            # → [0.   0.25 0.5  0.75 1. ]\n",
    "\n"
   ]
  },
  {
   "cell_type": "code",
   "execution_count": 2,
   "id": "9f07bb46",
   "metadata": {
    "execution": {
     "iopub.execute_input": "2025-09-08T13:07:31.592929Z",
     "iopub.status.busy": "2025-09-08T13:07:31.592516Z",
     "iopub.status.idle": "2025-09-08T13:07:31.605027Z",
     "shell.execute_reply": "2025-09-08T13:07:31.603920Z"
    },
    "papermill": {
     "duration": 0.018606,
     "end_time": "2025-09-08T13:07:31.606840",
     "exception": false,
     "start_time": "2025-09-08T13:07:31.588234",
     "status": "completed"
    },
    "tags": []
   },
   "outputs": [
    {
     "name": "stdout",
     "output_type": "stream",
     "text": [
      "[1 2 3]\n",
      "(3,)\n",
      "y1: [[0. 0. 0.]\n",
      " [0. 0. 0.]]\n",
      "y1: (2, 3)\n",
      "y3: [[1. 1.]]\n",
      "y3: (1, 2)\n",
      "y3: [[1. 1.]]\n",
      "y3: (1, 2)\n",
      "y3: [[1. 1.]]\n",
      "y3: (1, 2)\n",
      "y3: [[1. 1.]]\n",
      "y3: (1, 2)\n",
      "y3: [[1. 1.]]\n",
      "y3: (1, 2)\n"
     ]
    }
   ],
   "source": [
    "import numpy as np\n",
    "\n",
    "y = np.array([1, 2, 3])             # → [1 2 3]\n",
    "print(y)\n",
    "print(y.shape) # → (3,)\n",
    "\n",
    "y1 = np.zeros((2,3))                 # → [[0. 0. 0.],[0. 0. 0.]]\n",
    "print(\"y1:\", y1)     #[[0. 0. 0.]\n",
    "              # [0. 0. 0.]]\n",
    "print(\"y1:\",y1.shape) # → ((2, 3))\n",
    "\n",
    "y3 = np.ones((1,2))                  # → [[1. 1.],[1. 1.]]\n",
    "print(\"y3:\",y3)     #[[0. 0. 0.]\n",
    "              # [0. 0. 0.]]\n",
    "print(\"y3:\",y3.shape) # → ((2, 3))\n",
    "\n",
    "np.full((2,3), 7)               # → [[7 7 7],[7 7 7]]\n",
    "print(\"y3:\",y3)     #[[0. 0. 0.]\n",
    "              # [0. 0. 0.]]\n",
    "print(\"y3:\",y3.shape) # → ((2, 3))\n",
    "\n",
    "np.eye(3)                       # identity → [[1 0 0],[0 1 0],[0 0 1]]\n",
    "print(\"y3:\",y3)     #[[0. 0. 0.]\n",
    "              # [0. 0. 0.]]\n",
    "print(\"y3:\",y3.shape) # → ((2, 3))\n",
    "\n",
    "np.arange(0, 10, 2)             # → [0 2 4 6 8]\n",
    "print(\"y3:\",y3)     #[[0. 0. 0.]\n",
    "              # [0. 0. 0.]]\n",
    "print(\"y3:\",y3.shape) # → ((2, 3))\n",
    "\n",
    "np.linspace(0, 1, 5)            # → [0.   0.25 0.5  0.75 1. ]\n",
    "print(\"y3:\",y3)     #[[0. 0. 0.]\n",
    "              # [0. 0. 0.]]\n",
    "print(\"y3:\",y3.shape) # → ((2, 3))\n"
   ]
  },
  {
   "cell_type": "markdown",
   "id": "235c4b9f",
   "metadata": {
    "papermill": {
     "duration": 0.002966,
     "end_time": "2025-09-08T13:07:31.613340",
     "exception": false,
     "start_time": "2025-09-08T13:07:31.610374",
     "status": "completed"
    },
    "tags": []
   },
   "source": [
    "a = np.array([[1,2,3],[4,5,6]])\n",
    "\n",
    "a.shape                        # (2,3)\n",
    "a.reshape(3,2)                 # [[1 2],[3 4],[5 6]]\n",
    "a.flatten()                    # [1 2 3 4 5 6]\n",
    "a.T                            # transpose [[1 4],[2 5],[3 6]]\n",
    "np.expand_dims(a, axis=0).shape  # (1,2,3)\n",
    "np.squeeze(np.array([[[5]]]))  # 5"
   ]
  },
  {
   "cell_type": "code",
   "execution_count": 3,
   "id": "5d0d4484",
   "metadata": {
    "execution": {
     "iopub.execute_input": "2025-09-08T13:07:31.621281Z",
     "iopub.status.busy": "2025-09-08T13:07:31.620969Z",
     "iopub.status.idle": "2025-09-08T13:07:31.629524Z",
     "shell.execute_reply": "2025-09-08T13:07:31.628388Z"
    },
    "papermill": {
     "duration": 0.014528,
     "end_time": "2025-09-08T13:07:31.631199",
     "exception": false,
     "start_time": "2025-09-08T13:07:31.616671",
     "status": "completed"
    },
    "tags": []
   },
   "outputs": [
    {
     "data": {
      "text/plain": [
       "array(5)"
      ]
     },
     "execution_count": 3,
     "metadata": {},
     "output_type": "execute_result"
    }
   ],
   "source": [
    "a = np.array([[1,2,3],[4,5,6]])\n",
    "\n",
    "a.shape                        # (2,3)\n",
    "a.reshape(3,2)                 # [[1 2],[3 4],[5 6]]\n",
    "a.flatten()                    # [1 2 3 4 5 6]\n",
    "a.T                            # transpose [[1 4],[2 5],[3 6]]\n",
    "np.expand_dims(a, axis=0).shape  # (1,2,3)\n",
    "np.squeeze(np.array([[[5]]]))  # 5"
   ]
  },
  {
   "cell_type": "code",
   "execution_count": 4,
   "id": "d2c0964a",
   "metadata": {
    "execution": {
     "iopub.execute_input": "2025-09-08T13:07:31.641231Z",
     "iopub.status.busy": "2025-09-08T13:07:31.640883Z",
     "iopub.status.idle": "2025-09-08T13:07:31.652802Z",
     "shell.execute_reply": "2025-09-08T13:07:31.651732Z"
    },
    "papermill": {
     "duration": 0.018909,
     "end_time": "2025-09-08T13:07:31.654903",
     "exception": false,
     "start_time": "2025-09-08T13:07:31.635994",
     "status": "completed"
    },
    "tags": []
   },
   "outputs": [
    {
     "data": {
      "text/plain": [
       "array([[1, 2],\n",
       "       [3, 4],\n",
       "       [5, 6],\n",
       "       [7, 8]])"
      ]
     },
     "execution_count": 4,
     "metadata": {},
     "output_type": "execute_result"
    }
   ],
   "source": [
    "a = np.array([[1,2],[3,4]])\n",
    "b = np.array([[5,6],[7,8]])\n",
    "\n",
    "np.concatenate([a,b], axis=0)  # vertical [[1 2],[3 4],[5 6],[7 8]]\n",
    "np.concatenate([a,b], axis=1)  # horizontal [[1 2 5 6],[3 4 7 8]]\n",
    "np.vstack([a,b])               # same as axis=0\n",
    "np.hstack([a,b])               # same as axis=1\n",
    "np.dstack([a,b])               # [[[1 5],[2 6]],[[3 7],[4 8]]]\n",
    "np.column_stack([a[:,0], b[:,0]]) # [[1 5],[3 7]]\n",
    "np.c_[a, b]                    # shortcut for column stack\n",
    "np.r_[a, b]                    # shortcut for row stack"
   ]
  },
  {
   "cell_type": "code",
   "execution_count": 5,
   "id": "4e42d31f",
   "metadata": {
    "execution": {
     "iopub.execute_input": "2025-09-08T13:07:31.663404Z",
     "iopub.status.busy": "2025-09-08T13:07:31.663005Z",
     "iopub.status.idle": "2025-09-08T13:07:31.672886Z",
     "shell.execute_reply": "2025-09-08T13:07:31.671841Z"
    },
    "papermill": {
     "duration": 0.016116,
     "end_time": "2025-09-08T13:07:31.674541",
     "exception": false,
     "start_time": "2025-09-08T13:07:31.658425",
     "status": "completed"
    },
    "tags": []
   },
   "outputs": [
    {
     "data": {
      "text/plain": [
       "[array([[0, 1, 2]]), array([[3, 4, 5]]), array([[6, 7, 8]])]"
      ]
     },
     "execution_count": 5,
     "metadata": {},
     "output_type": "execute_result"
    }
   ],
   "source": [
    "x = np.arange(9).reshape(3,3)\n",
    "# x = [[0 1 2],[3 4 5],[6 7 8]]\n",
    "\n",
    "np.split(x, 3)                 # 3 subarrays along rows\n",
    "np.array_split(x, 2)           # split into 2 unequal parts\n",
    "np.hsplit(x, 3)                # split into 3 columns\n",
    "np.vsplit(x, 3)                # split into 3 rows"
   ]
  },
  {
   "cell_type": "code",
   "execution_count": 6,
   "id": "b15f2ef6",
   "metadata": {
    "execution": {
     "iopub.execute_input": "2025-09-08T13:07:31.683892Z",
     "iopub.status.busy": "2025-09-08T13:07:31.683503Z",
     "iopub.status.idle": "2025-09-08T13:07:31.696200Z",
     "shell.execute_reply": "2025-09-08T13:07:31.695282Z"
    },
    "papermill": {
     "duration": 0.019096,
     "end_time": "2025-09-08T13:07:31.697871",
     "exception": false,
     "start_time": "2025-09-08T13:07:31.678775",
     "status": "completed"
    },
    "tags": []
   },
   "outputs": [
    {
     "data": {
      "text/plain": [
       "(array([0, 1, 1, 1]), array([2, 0, 1, 2]))"
      ]
     },
     "execution_count": 6,
     "metadata": {},
     "output_type": "execute_result"
    }
   ],
   "source": [
    "a = np.array([[10,20,30],[40,50,60]])\n",
    "\n",
    "a[0,1]                         # 20 (row 0 col 1)\n",
    "a[:,0]                         # [10 40] (all rows, col 0)\n",
    "a[1:3,:]                       # [[40 50 60]]\n",
    "a[a>25]                        # [30 40 50 60] (masking)\n",
    "np.where(a>25)                 # (array([0,1,1,1]), array([2,0,1,2]))"
   ]
  },
  {
   "cell_type": "code",
   "execution_count": 7,
   "id": "7ce50386",
   "metadata": {
    "execution": {
     "iopub.execute_input": "2025-09-08T13:07:31.706358Z",
     "iopub.status.busy": "2025-09-08T13:07:31.706006Z",
     "iopub.status.idle": "2025-09-08T13:07:31.715474Z",
     "shell.execute_reply": "2025-09-08T13:07:31.714601Z"
    },
    "papermill": {
     "duration": 0.015448,
     "end_time": "2025-09-08T13:07:31.717000",
     "exception": false,
     "start_time": "2025-09-08T13:07:31.701552",
     "status": "completed"
    },
    "tags": []
   },
   "outputs": [
    {
     "data": {
      "text/plain": [
       "array([1, 2, 6])"
      ]
     },
     "execution_count": 7,
     "metadata": {},
     "output_type": "execute_result"
    }
   ],
   "source": [
    "a = np.array([1,2,3])\n",
    "b = np.array([4,5,6])\n",
    "\n",
    "a + b                          # [5 7 9]\n",
    "a * b                          # [4 10 18]\n",
    "np.dot(a,b)                    # 32 (1*4+2*5+3*6)\n",
    "(a @ b)                        # same → 32\n",
    "np.sum(a)                      # 6\n",
    "np.mean(b)                     # 5.0\n",
    "np.std(b)                      # 0.816...\n",
    "np.min(a), np.max(a)           # (1, 3)\n",
    "np.argmax(b)                   # 2 (index of 6)\n",
    "np.cumsum(a)                   # [1 3 6]\n",
    "np.cumprod(a)                  # [1 2 6]"
   ]
  },
  {
   "cell_type": "code",
   "execution_count": 8,
   "id": "1d62a1d8",
   "metadata": {
    "execution": {
     "iopub.execute_input": "2025-09-08T13:07:31.725687Z",
     "iopub.status.busy": "2025-09-08T13:07:31.725367Z",
     "iopub.status.idle": "2025-09-08T13:07:31.733111Z",
     "shell.execute_reply": "2025-09-08T13:07:31.732306Z"
    },
    "papermill": {
     "duration": 0.014131,
     "end_time": "2025-09-08T13:07:31.734808",
     "exception": false,
     "start_time": "2025-09-08T13:07:31.720677",
     "status": "completed"
    },
    "tags": []
   },
   "outputs": [
    {
     "data": {
      "text/plain": [
       "(array([1, 2, 3]), array([2, 1, 2]))"
      ]
     },
     "execution_count": 8,
     "metadata": {},
     "output_type": "execute_result"
    }
   ],
   "source": [
    "a = np.array([3,1,2,1,3])\n",
    "\n",
    "np.sort(a)                     # [1 1 2 3 3]\n",
    "a.sort()                       # in-place sort\n",
    "np.argsort(a)                  # indices [0 1 2 3 4]\n",
    "np.unique(a)                   # [1 2 3]\n",
    "np.unique(a, return_counts=True) # (array([1,2,3]), array([2,1,2]))"
   ]
  },
  {
   "cell_type": "code",
   "execution_count": 9,
   "id": "d9129be7",
   "metadata": {
    "execution": {
     "iopub.execute_input": "2025-09-08T13:07:31.743356Z",
     "iopub.status.busy": "2025-09-08T13:07:31.743023Z",
     "iopub.status.idle": "2025-09-08T13:07:31.750141Z",
     "shell.execute_reply": "2025-09-08T13:07:31.749219Z"
    },
    "papermill": {
     "duration": 0.013157,
     "end_time": "2025-09-08T13:07:31.751691",
     "exception": false,
     "start_time": "2025-09-08T13:07:31.738534",
     "status": "completed"
    },
    "tags": []
   },
   "outputs": [
    {
     "data": {
      "text/plain": [
       "array([30, 20, 10, 20, 10])"
      ]
     },
     "execution_count": 9,
     "metadata": {},
     "output_type": "execute_result"
    }
   ],
   "source": [
    "np.random.rand(2,2)            # uniform 0–1, shape (2,2)\n",
    "np.random.randn(2,2)           # normal distribution\n",
    "np.random.randint(0,10,(2,3))  # random ints 0–9\n",
    "np.random.choice([10,20,30], size=5)  # sample [20 30 10 10 20]"
   ]
  },
  {
   "cell_type": "code",
   "execution_count": 10,
   "id": "dc876900",
   "metadata": {
    "execution": {
     "iopub.execute_input": "2025-09-08T13:07:31.761707Z",
     "iopub.status.busy": "2025-09-08T13:07:31.760891Z",
     "iopub.status.idle": "2025-09-08T13:07:31.833195Z",
     "shell.execute_reply": "2025-09-08T13:07:31.832244Z"
    },
    "papermill": {
     "duration": 0.079508,
     "end_time": "2025-09-08T13:07:31.834931",
     "exception": false,
     "start_time": "2025-09-08T13:07:31.755423",
     "status": "completed"
    },
    "tags": []
   },
   "outputs": [
    {
     "data": {
      "text/plain": [
       "array([2., 3.])"
      ]
     },
     "execution_count": 10,
     "metadata": {},
     "output_type": "execute_result"
    }
   ],
   "source": [
    "A = np.array([[3,1],[1,2]])\n",
    "b = np.array([9,8])\n",
    "\n",
    "np.linalg.inv(A)               # inverse\n",
    "np.linalg.det(A)               # determinant → 5\n",
    "np.linalg.eig(A)               # eigenvalues & vectors\n",
    "np.linalg.solve(A,b)           # solve Ax=b"
   ]
  },
  {
   "cell_type": "code",
   "execution_count": 11,
   "id": "4983b9ce",
   "metadata": {
    "execution": {
     "iopub.execute_input": "2025-09-08T13:07:31.844194Z",
     "iopub.status.busy": "2025-09-08T13:07:31.843847Z",
     "iopub.status.idle": "2025-09-08T13:07:31.853633Z",
     "shell.execute_reply": "2025-09-08T13:07:31.852628Z"
    },
    "papermill": {
     "duration": 0.017042,
     "end_time": "2025-09-08T13:07:31.856073",
     "exception": false,
     "start_time": "2025-09-08T13:07:31.839031",
     "status": "completed"
    },
    "tags": []
   },
   "outputs": [
    {
     "data": {
      "text/plain": [
       "array([[1., 2., 3.],\n",
       "       [4., 5., 6.]])"
      ]
     },
     "execution_count": 11,
     "metadata": {},
     "output_type": "execute_result"
    }
   ],
   "source": [
    "a = np.array([[1,2,3],[4,5,6]])\n",
    "\n",
    "np.save('arr.npy', a)          # save binary\n",
    "np.load('arr.npy')             # load binary\n",
    "np.savetxt('arr.csv', a, delimiter=',')\n",
    "np.loadtxt('arr.csv', delimiter=',')\n"
   ]
  },
  {
   "cell_type": "code",
   "execution_count": null,
   "id": "48a82340",
   "metadata": {
    "papermill": {
     "duration": 0.004036,
     "end_time": "2025-09-08T13:07:31.864287",
     "exception": false,
     "start_time": "2025-09-08T13:07:31.860251",
     "status": "completed"
    },
    "tags": []
   },
   "outputs": [],
   "source": []
  }
 ],
 "metadata": {
  "kaggle": {
   "accelerator": "none",
   "dataSources": [],
   "dockerImageVersionId": 31089,
   "isGpuEnabled": false,
   "isInternetEnabled": true,
   "language": "python",
   "sourceType": "notebook"
  },
  "kernelspec": {
   "display_name": "Python 3",
   "language": "python",
   "name": "python3"
  },
  "language_info": {
   "codemirror_mode": {
    "name": "ipython",
    "version": 3
   },
   "file_extension": ".py",
   "mimetype": "text/x-python",
   "name": "python",
   "nbconvert_exporter": "python",
   "pygments_lexer": "ipython3",
   "version": "3.11.13"
  },
  "papermill": {
   "default_parameters": {},
   "duration": 9.027285,
   "end_time": "2025-09-08T13:07:32.490145",
   "environment_variables": {},
   "exception": null,
   "input_path": "__notebook__.ipynb",
   "output_path": "__notebook__.ipynb",
   "parameters": {},
   "start_time": "2025-09-08T13:07:23.462860",
   "version": "2.6.0"
  }
 },
 "nbformat": 4,
 "nbformat_minor": 5
}
