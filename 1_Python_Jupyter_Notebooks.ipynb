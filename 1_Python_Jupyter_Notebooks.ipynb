{
 "cells": [
  {
   "cell_type": "code",
   "execution_count": 1,
   "id": "fa078e88",
   "metadata": {
    "execution": {
     "iopub.execute_input": "2023-12-15T04:16:02.338699Z",
     "iopub.status.busy": "2023-12-15T04:16:02.338284Z",
     "iopub.status.idle": "2023-12-15T04:16:02.350475Z",
     "shell.execute_reply": "2023-12-15T04:16:02.349341Z"
    },
    "papermill": {
     "duration": 0.017552,
     "end_time": "2023-12-15T04:16:02.352532",
     "exception": false,
     "start_time": "2023-12-15T04:16:02.334980",
     "status": "completed"
    },
    "tags": []
   },
   "outputs": [
    {
     "name": "stdout",
     "output_type": "stream",
     "text": [
      "This is  code cell\n"
     ]
    }
   ],
   "source": [
    "print(\"This is  code cell\")"
   ]
  },
  {
   "cell_type": "code",
   "execution_count": 2,
   "id": "845dc5ca",
   "metadata": {
    "execution": {
     "iopub.execute_input": "2023-12-15T04:16:02.357419Z",
     "iopub.status.busy": "2023-12-15T04:16:02.357047Z",
     "iopub.status.idle": "2023-12-15T04:16:02.362958Z",
     "shell.execute_reply": "2023-12-15T04:16:02.361664Z"
    },
    "papermill": {
     "duration": 0.010604,
     "end_time": "2023-12-15T04:16:02.364856",
     "exception": false,
     "start_time": "2023-12-15T04:16:02.354252",
     "status": "completed"
    },
    "tags": []
   },
   "outputs": [
    {
     "name": "stdout",
     "output_type": "stream",
     "text": [
      "f strings allow you to embed variables right in the strings!\n"
     ]
    }
   ],
   "source": [
    "# print statements\n",
    "variable = \"right in the strings!\"\n",
    "print(f\"f strings allow you to embed variables {variable}\")"
   ]
  }
 ],
 "metadata": {
  "kaggle": {
   "accelerator": "none",
   "dataSources": [],
   "dockerImageVersionId": 30626,
   "isGpuEnabled": false,
   "isInternetEnabled": false,
   "language": "python",
   "sourceType": "notebook"
  },
  "kernelspec": {
   "display_name": "Python 3",
   "language": "python",
   "name": "python3"
  },
  "language_info": {
   "codemirror_mode": {
    "name": "ipython",
    "version": 3
   },
   "file_extension": ".py",
   "mimetype": "text/x-python",
   "name": "python",
   "nbconvert_exporter": "python",
   "pygments_lexer": "ipython3",
   "version": "3.10.12"
  },
  "papermill": {
   "default_parameters": {},
   "duration": 2.886626,
   "end_time": "2023-12-15T04:16:02.685498",
   "environment_variables": {},
   "exception": null,
   "input_path": "__notebook__.ipynb",
   "output_path": "__notebook__.ipynb",
   "parameters": {},
   "start_time": "2023-12-15T04:15:59.798872",
   "version": "2.4.0"
  }
 },
 "nbformat": 4,
 "nbformat_minor": 5
}
